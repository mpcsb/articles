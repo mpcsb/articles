{
 "cells": [
  {
   "cell_type": "markdown",
   "metadata": {},
   "source": [
    "# Kurtosis as an outlier detection tool: at best"
   ]
  },
  {
   "cell_type": "markdown",
   "metadata": {},
   "source": [
    "https://www.ncbi.nlm.nih.gov/pmc/articles/PMC4321753/"
   ]
  },
  {
   "cell_type": "code",
   "execution_count": 3,
   "metadata": {},
   "outputs": [],
   "source": [
    "import numpy as np\n",
    "from scipy.stats import kurtosis\n",
    "from scipy.stats import skew\n",
    "\n",
    "import matplotlib.pyplot as plt\n",
    "plt.style.use('ggplot')"
   ]
  },
  {
   "cell_type": "code",
   "execution_count": 5,
   "metadata": {},
   "outputs": [
    {
     "data": {
      "image/png": "[encoded data removed]",
      "text/plain": [
       "<Figure size 432x288 with 1 Axes>"
      ]
     },
     "metadata": {
      "needs_background": "light"
     },
     "output_type": "display_data"
    },
    {
     "name": "stdout",
     "output_type": "stream",
     "text": [
      "mean:  -0.0046132905614779856\n",
      "var:  0.9982277862227132\n",
      "skew:  0.009797561590265168\n",
      "kurt:  -0.036569006959903394\n"
     ]
    }
   ],
   "source": [
    "data = np.random.normal(0, 1, 10000)\n",
    "\n",
    "plt.hist(data, bins=60)\n",
    "plt.show()\n",
    "print(\"mean: \", np.mean(data))\n",
    "print(\"var: \", np.var(data))\n",
    "print(\"skew: \", skew(data))\n",
    "print(\"kurt: \", kurtosis(data))"
   ]
  },
  {
   "cell_type": "code",
   "execution_count": 7,
   "metadata": {},
   "outputs": [
    {
     "data": {
      "image/png": "[encoded data removed]",
      "text/plain": [
       "<Figure size 432x288 with 1 Axes>"
      ]
     },
     "metadata": {
      "needs_background": "light"
     },
     "output_type": "display_data"
    },
    {
     "name": "stdout",
     "output_type": "stream",
     "text": [
      "mean:  0.1953476399105399\n",
      "var:  200.91989675676245\n",
      "skew:  70.17022816369162\n",
      "kurt:  4946.460617696747\n"
     ]
    }
   ],
   "source": [
    "data = np.append(data, [1000])\n",
    "\n",
    "plt.hist(data, bins=60)\n",
    "plt.show()\n",
    "\n",
    "print(\"mean: \", np.mean(data))\n",
    "print(\"var: \", np.var(data))\n",
    "print(\"skew: \", skew(data))\n",
    "print(\"kurt: \", kurtosis(data))"
   ]
  }
 ],
 "metadata": {
  "kernelspec": {
   "display_name": "Python 3",
   "language": "python",
   "name": "python3"
  },
  "language_info": {
   "codemirror_mode": {
    "name": "ipython",
    "version": 3
   },
   "file_extension": ".py",
   "mimetype": "text/x-python",
   "name": "python",
   "nbconvert_exporter": "python",
   "pygments_lexer": "ipython3",
   "version": "3.7.1"
  }
 },
 "nbformat": 4,
 "nbformat_minor": 2
}
